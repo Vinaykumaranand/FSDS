{
 "cells": [
  {
   "cell_type": "code",
   "execution_count": null,
   "id": "e3c13cca",
   "metadata": {},
   "outputs": [],
   "source": [
    "import pandas as pd"
   ]
  },
  {
   "cell_type": "code",
   "execution_count": null,
   "id": "a23d15d4",
   "metadata": {},
   "outputs": [],
   "source": [
    "path= \"D:/Vinay/iNeuron/DataSets/EDA/data3---My Data for EDA/\""
   ]
  },
  {
   "cell_type": "code",
   "execution_count": null,
   "id": "ecbf6ad4",
   "metadata": {},
   "outputs": [],
   "source": [
    "df = pd.read_csv(path+\"googleplaystore.csv\")"
   ]
  },
  {
   "cell_type": "code",
   "execution_count": null,
   "id": "815c3ff9",
   "metadata": {},
   "outputs": [],
   "source": [
    "df.head(10)"
   ]
  },
  {
   "cell_type": "code",
   "execution_count": null,
   "id": "5179f2f5",
   "metadata": {},
   "outputs": [],
   "source": []
  },
  {
   "cell_type": "markdown",
   "id": "31d6aa53",
   "metadata": {},
   "source": [
    "# 1. DataPrep"
   ]
  },
  {
   "cell_type": "code",
   "execution_count": null,
   "id": "f1ddedd5",
   "metadata": {},
   "outputs": [],
   "source": [
    "#pip install dataprep"
   ]
  },
  {
   "cell_type": "code",
   "execution_count": null,
   "id": "c13dd239",
   "metadata": {},
   "outputs": [],
   "source": [
    "from dataprep.eda import create_report"
   ]
  },
  {
   "cell_type": "code",
   "execution_count": null,
   "id": "6e5c27c7",
   "metadata": {},
   "outputs": [],
   "source": [
    "create_report(df)"
   ]
  },
  {
   "cell_type": "markdown",
   "id": "0549769d",
   "metadata": {},
   "source": [
    "# 2. Pandas Profiling"
   ]
  },
  {
   "cell_type": "code",
   "execution_count": null,
   "id": "01f4cb46",
   "metadata": {},
   "outputs": [],
   "source": [
    "#pip install pandas-profiling"
   ]
  },
  {
   "cell_type": "code",
   "execution_count": null,
   "id": "64eed060",
   "metadata": {},
   "outputs": [],
   "source": [
    "from pandas_profiling import ProfileReport\n",
    "profile = ProfileReport(df, title=\"Report\")\n",
    "profile"
   ]
  },
  {
   "cell_type": "markdown",
   "id": "0d4b6164",
   "metadata": {},
   "source": [
    "# 3. Sweetviz"
   ]
  },
  {
   "cell_type": "code",
   "execution_count": null,
   "id": "179202f8",
   "metadata": {
    "scrolled": true
   },
   "outputs": [],
   "source": [
    "#pip install sweetviz"
   ]
  },
  {
   "cell_type": "code",
   "execution_count": null,
   "id": "bde91e30",
   "metadata": {},
   "outputs": [],
   "source": [
    "import sweetviz as sv\n",
    "analyze_report = sv.analyze(df)\n",
    "analyze_report.show_html('report.html', open_browser=True)"
   ]
  },
  {
   "cell_type": "markdown",
   "id": "e0a1976b",
   "metadata": {},
   "source": [
    "# 4. Dtale"
   ]
  },
  {
   "cell_type": "code",
   "execution_count": null,
   "id": "e3424b77",
   "metadata": {},
   "outputs": [],
   "source": [
    "#pip install dtale"
   ]
  },
  {
   "cell_type": "code",
   "execution_count": null,
   "id": "903aea83",
   "metadata": {
    "scrolled": true
   },
   "outputs": [],
   "source": [
    "import dtale \n",
    "\n",
    "import dtale.app as dtale_app\n",
    "dtale_app.USE_COLAB = True\n",
    "dtale.show(df)"
   ]
  },
  {
   "cell_type": "code",
   "execution_count": null,
   "id": "f954686f",
   "metadata": {},
   "outputs": [],
   "source": []
  }
 ],
 "metadata": {
  "kernelspec": {
   "display_name": "Python 3 (ipykernel)",
   "language": "python",
   "name": "python3"
  },
  "language_info": {
   "codemirror_mode": {
    "name": "ipython",
    "version": 3
   },
   "file_extension": ".py",
   "mimetype": "text/x-python",
   "name": "python",
   "nbconvert_exporter": "python",
   "pygments_lexer": "ipython3",
   "version": "3.9.12"
  }
 },
 "nbformat": 4,
 "nbformat_minor": 5
}
